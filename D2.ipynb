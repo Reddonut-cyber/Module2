{
 "cells": [
  {
   "cell_type": "code",
   "execution_count": 1,
   "metadata": {},
   "outputs": [
    {
     "name": "stdout",
     "output_type": "stream",
     "text": [
      "Soda 22\n"
     ]
    }
   ],
   "source": [
    "age = 22 # ใส่สเปสด้วย ไพทนออ่ายจากบนลงล่าง ขวาไปซ้าย\n",
    "name = \"Soda\"\n",
    "print(name, age) # if u to print mor then 1 put the , ตามด้วย สเปส\n"
   ]
  },
  {
   "cell_type": "markdown",
   "metadata": {},
   "source": [
    "วิธีตั้งชื่อตัวแปล"
   ]
  },
  {
   "cell_type": "code",
   "execution_count": null,
   "metadata": {},
   "outputs": [],
   "source": [
    "a = 1 # ใส่ชื่อตัวแปลที่เฉพาะตัวด้วยเด้อ \n",
    "b = 2\n"
   ]
  },
  {
   "cell_type": "markdown",
   "metadata": {},
   "source": [
    "Input"
   ]
  },
  {
   "cell_type": "code",
   "execution_count": null,
   "metadata": {},
   "outputs": [],
   "source": [
    "name = input(\"ใส่ชื่อมึงมา: \") # สร้างช่องไว้ใส่ input ใส่ชื่อ input ด้วยก็ดี \n",
    "print(\"hello\", name)"
   ]
  },
  {
   "cell_type": "markdown",
   "metadata": {},
   "source": [
    "int"
   ]
  },
  {
   "cell_type": "code",
   "execution_count": 6,
   "metadata": {},
   "outputs": [
    {
     "name": "stdout",
     "output_type": "stream",
     "text": [
      "1 <class 'int'>\n"
     ]
    }
   ],
   "source": [
    "# int() จำนวนเต็ม เปลี่ยนทุกตัวเป็น int เปลี่ยนได้สเต็ปเดียว มากกว่านั้นแตก\n",
    "a = int(\"4\") # str ไป int 1 step \n",
    "a = int(\"1\") # str ไป int 1 step\n",
    "a = int(2.4) # float ไป int 1 step\n",
    "#a = int(\"1.2\") # sta ไป เจ๊ง maby more then 1 step\n",
    "a = int(True) # True are every ตัว ที่ไม่ใช่ 0 False is only 0\n",
    "print(a, type(a))"
   ]
  },
  {
   "cell_type": "code",
   "execution_count": 12,
   "metadata": {},
   "outputs": [
    {
     "name": "stdout",
     "output_type": "stream",
     "text": [
      "4.0 <class 'float'>\n"
     ]
    }
   ],
   "source": [
    "# float() ทศนิยม change to float\n",
    "a = float(-2) \n",
    "a = float(\"-2\")\n",
    "a = float(True) # เหมือนอิตัวบนเลยจ้า\n",
    "#a = float(\"True\") # str ไป bool ไป toommmmm\n",
    "a = float(\"4\")\n",
    "print(a, type(a))"
   ]
  },
  {
   "cell_type": "code",
   "execution_count": 15,
   "metadata": {},
   "outputs": [
    {
     "name": "stdout",
     "output_type": "stream",
     "text": [
      "False <class 'bool'>\n"
     ]
    }
   ],
   "source": [
    "# bool() ทุกอย่างไป bool if 0 or None or (ว่างๆ) = False , if have something ที่ไม่ใช่อิพวกก่อนหน้า = True\n",
    "a = bool(1) # เหมือนตัวก่อนเลยครับ\n",
    "a = bool(3)\n",
    "a = bool(-2)\n",
    "a = bool(0)\n",
    "a = bool(\"0.1\") # ที่ไม่เอ๋อเพราะ it change only 1 time\n",
    "a = bool(0.0)\n",
    "a = bool(\"\")\n",
    "a = bool(None)\n",
    "print(a, type(a))"
   ]
  },
  {
   "cell_type": "code",
   "execution_count": 16,
   "metadata": {},
   "outputs": [
    {
     "name": "stdout",
     "output_type": "stream",
     "text": [
      "None <class 'str'>\n"
     ]
    }
   ],
   "source": [
    "#str() ข้อความ make everything to be str\n",
    "a = str(1)\n",
    "a = str(True)\n",
    "a = str(2.5)\n",
    "a = str(None)\n",
    "print(a, type(a))"
   ]
  },
  {
   "cell_type": "code",
   "execution_count": 17,
   "metadata": {},
   "outputs": [
    {
     "name": "stdout",
     "output_type": "stream",
     "text": [
      "True <class 'bool'>\n"
     ]
    }
   ],
   "source": [
    "a = bool(str(float(-2))) # \"-2.0\"\n",
    "print(a, type(a))"
   ]
  },
  {
   "cell_type": "markdown",
   "metadata": {},
   "source": [
    "Math  Operations"
   ]
  },
  {
   "cell_type": "code",
   "execution_count": 22,
   "metadata": {},
   "outputs": [
    {
     "data": {
      "text/plain": [
       "0.10000000000000053"
      ]
     },
     "execution_count": 22,
     "metadata": {},
     "output_type": "execute_result"
    }
   ],
   "source": [
    "\n",
    "a = 1 + 1 \n",
    "a = 6 - 3\n",
    "a = 4 * 5 # คูณปกติ\n",
    "a = int(6 / 3) # จะได้ออกมาเป็นจำนวนเต็ม\n",
    "a = 6 // 3 # หารเอาส่วน\n",
    "a = 7 / 3 \n",
    "a = 7 // 3\n",
    "a = 2 ** 3 # ยกกำลัง\n",
    "a = 7 % 3 # หารเอาเศษ\n",
    "a = 54 % 5\n",
    "a = 32.2 % 3\n",
    "a = 10 % 3.3\n",
    "a"
   ]
  },
  {
   "cell_type": "code",
   "execution_count": 21,
   "metadata": {},
   "outputs": [
    {
     "data": {
      "text/plain": [
       "1"
      ]
     },
     "execution_count": 21,
     "metadata": {},
     "output_type": "execute_result"
    }
   ],
   "source": [
    "# จำไว้เลยจ้าา\n",
    "a = 0 ** 0 # ไอ้เหี้ยนี่ได้ 1\n",
    "a"
   ]
  },
  {
   "cell_type": "markdown",
   "metadata": {},
   "source": [
    "Order of operations"
   ]
  },
  {
   "cell_type": "code",
   "execution_count": null,
   "metadata": {},
   "outputs": [],
   "source": [
    "# () -> ** -> */% -> +-\n",
    "a = (2 * 2) - (2 / 2) - (2 ** 2) # 1st way of reorganizing\n",
    "a = 2*2 - 2/2 - 2**2 # 2nd way of reorganizing\n",
    "b = 2 * 2 - 2 / 2 - 4\n",
    "c = 4 - 1.0 - 4\n",
    "d = -1.0"
   ]
  },
  {
   "cell_type": "markdown",
   "metadata": {},
   "source": [
    "Variable Adjustment"
   ]
  },
  {
   "cell_type": "code",
   "execution_count": 25,
   "metadata": {},
   "outputs": [
    {
     "name": "stdout",
     "output_type": "stream",
     "text": [
      "0.5 6\n"
     ]
    }
   ],
   "source": [
    "a = 4 + 4\n",
    "b = 3 * 2\n",
    "a = a + 4 # เอา a อันเก่าไป + 4\n",
    "a = b / a # b หาร a ล่าสุด\n",
    "print(a, b) # print a and b"
   ]
  },
  {
   "cell_type": "code",
   "execution_count": 26,
   "metadata": {},
   "outputs": [
    {
     "data": {
      "text/plain": [
       "32.0"
      ]
     },
     "execution_count": 26,
     "metadata": {},
     "output_type": "execute_result"
    }
   ],
   "source": [
    "#same lick a = a + 1 \n",
    "a = 1\n",
    "a = a + 4 # SAME\n",
    "a += 4 # SAME\n",
    "a -= 3 # SAME TO a = a - 3\n",
    "a *= 2\n",
    "a /= 6 # SAME TO a = a / 6\n",
    "a **= 5\n",
    "a"
   ]
  },
  {
   "cell_type": "markdown",
   "metadata": {},
   "source": [
    "Logical Operators"
   ]
  },
  {
   "cell_type": "code",
   "execution_count": 27,
   "metadata": {},
   "outputs": [
    {
     "data": {
      "text/plain": [
       "False"
      ]
     },
     "execution_count": 27,
     "metadata": {},
     "output_type": "execute_result"
    }
   ],
   "source": [
    "# เรียบเทัียบ\n",
    "a = 5\n",
    "\n",
    "2 > 3\n",
    "a < 7\n",
    "a == 6\n",
    "a >= 5\n",
    "a <= 2\n",
    "a != 5"
   ]
  },
  {
   "cell_type": "markdown",
   "metadata": {},
   "source": [
    "## D3"
   ]
  },
  {
   "cell_type": "code",
   "execution_count": 4,
   "metadata": {},
   "outputs": [
    {
     "data": {
      "text/plain": [
       "123.0"
      ]
     },
     "execution_count": 4,
     "metadata": {},
     "output_type": "execute_result"
    }
   ],
   "source": [
    "round(123.45, 0)"
   ]
  },
  {
   "cell_type": "markdown",
   "metadata": {},
   "source": [
    "library"
   ]
  },
  {
   "cell_type": "code",
   "execution_count": 5,
   "metadata": {},
   "outputs": [],
   "source": [
    "import turtle"
   ]
  },
  {
   "cell_type": "code",
   "execution_count": null,
   "metadata": {},
   "outputs": [],
   "source": []
  }
 ],
 "metadata": {
  "kernelspec": {
   "display_name": "Soda",
   "language": "python",
   "name": "python3"
  },
  "language_info": {
   "codemirror_mode": {
    "name": "ipython",
    "version": 3
   },
   "file_extension": ".py",
   "mimetype": "text/x-python",
   "name": "python",
   "nbconvert_exporter": "python",
   "pygments_lexer": "ipython3",
   "version": "3.12.4"
  }
 },
 "nbformat": 4,
 "nbformat_minor": 2
}
