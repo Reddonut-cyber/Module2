{
 "cells": [
  {
   "cell_type": "code",
   "execution_count": 3,
   "metadata": {},
   "outputs": [
    {
     "ename": "NameError",
     "evalue": "name 'username' is not defined",
     "output_type": "error",
     "traceback": [
      "\u001b[1;31m---------------------------------------------------------------------------\u001b[0m",
      "\u001b[1;31mNameError\u001b[0m                                 Traceback (most recent call last)",
      "Cell \u001b[1;32mIn[3], line 2\u001b[0m\n\u001b[0;32m      1\u001b[0m passwords[service] \u001b[38;5;241m=\u001b[39m {\n\u001b[1;32m----> 2\u001b[0m        \u001b[38;5;124m'\u001b[39m\u001b[38;5;124musername\u001b[39m\u001b[38;5;124m'\u001b[39m: \u001b[43musername\u001b[49m,\n\u001b[0;32m      3\u001b[0m        \u001b[38;5;124m'\u001b[39m\u001b[38;5;124mpassword\u001b[39m\u001b[38;5;124m'\u001b[39m: password\n\u001b[0;32m      4\u001b[0m    }\n",
      "\u001b[1;31mNameError\u001b[0m: name 'username' is not defined"
     ]
    }
   ],
   "source": [
    " passwords[service] = {\n",
    "        'username': username,\n",
    "        'password': password\n",
    "    }"
   ]
  },
  {
   "cell_type": "code",
   "execution_count": 2,
   "metadata": {},
   "outputs": [
    {
     "data": {
      "text/plain": [
       "1"
      ]
     },
     "execution_count": 2,
     "metadata": {},
     "output_type": "execute_result"
    }
   ],
   "source": [
    "password = input()\n",
    "len(password)\n",
    "for i in range():\n",
    "    "
   ]
  },
  {
   "cell_type": "code",
   "execution_count": 33,
   "metadata": {},
   "outputs": [
    {
     "data": {
      "text/plain": [
       "'df'"
      ]
     },
     "execution_count": 33,
     "metadata": {},
     "output_type": "execute_result"
    }
   ],
   "source": [
    "i = 1\n",
    "s = \"asdfghj\"\n",
    "s[2:4]"
   ]
  },
  {
   "cell_type": "code",
   "execution_count": 7,
   "metadata": {},
   "outputs": [
    {
     "name": "stdout",
     "output_type": "stream",
     "text": [
      "s\n"
     ]
    },
    {
     "ename": "KeyError",
     "evalue": "'9'",
     "output_type": "error",
     "traceback": [
      "\u001b[1;31m---------------------------------------------------------------------------\u001b[0m",
      "\u001b[1;31mKeyError\u001b[0m                                  Traceback (most recent call last)",
      "Cell \u001b[1;32mIn[7], line 20\u001b[0m\n\u001b[0;32m     18\u001b[0m \u001b[38;5;28;01mfor\u001b[39;00m i \u001b[38;5;129;01min\u001b[39;00m \u001b[38;5;28mrange\u001b[39m(num_of_decode_loop):\n\u001b[0;32m     19\u001b[0m          finde_in_decode_dict \u001b[38;5;241m=\u001b[39m deio[i:\u001b[38;5;241m2\u001b[39m]\n\u001b[1;32m---> 20\u001b[0m          decode_password \u001b[38;5;241m+\u001b[39m\u001b[38;5;241m=\u001b[39m \u001b[38;5;28mstr\u001b[39m(\u001b[43mdecode_dict\u001b[49m\u001b[43m[\u001b[49m\u001b[43mfinde_in_decode_dict\u001b[49m\u001b[43m]\u001b[49m)\n\u001b[0;32m     21\u001b[0m          \u001b[38;5;28mprint\u001b[39m(decode_password)\n\u001b[0;32m     22\u001b[0m \u001b[38;5;28mprint\u001b[39m(decode_password)\n",
      "\u001b[1;31mKeyError\u001b[0m: '9'"
     ]
    }
   ],
   "source": [
    "deio = input(\"de: \")\n",
    "num_of_decode_loop = len(deio) // 2\n",
    "decode_dict = {\n",
    " '-1': 'a', '-2': 'b', '-3': 'c', '-4': 'd', '-5': 'e', '-6': 'f', '-7': 'g', '-8': 'h', '-9': 'i',\n",
    " '10': 'j', '11': 'k', '12': 'l', '13': 'm', '14': 'n', '15': 'o', '16': 'p', '17': 'q',\n",
    " '18': 'r', '19': 's', '20': 't', '21': 'u', '22': 'v', '23': 'w', '24': 'x', '25': 'y',\n",
    " '26': 'z', '27': 'A', '28': 'B', '29': 'C', '30': 'D', '31': 'E', '32': 'F', '33': 'G',\n",
    " '34': 'H', '35': 'I', '36': 'J', '37': 'K', '38': 'L', '39': 'M', '40': 'N', '41': 'O',\n",
    " '42': 'P', '43': 'Q', '44': 'R', '45': 'S', '46': 'T', '47': 'U', '48': 'V', '49': 'W',\n",
    " '50': 'X', '51': 'Y', '52': 'Z', '53': '0', '54': '1', '55': '2', '56': '3', '57': '4',\n",
    " '58': '5', '59': '6', '60': '7', '61': '8', '62': '9', '63': '!', '64': '\"', '65': '#',\n",
    " '66': '$', '67': '%', '68': '&', '69': \"'\", '70': '(', '71': ')', '72': '*', '73': '+',\n",
    " '74': ',', '75': '-', '76': '.', '77': '/', '78': ':', '79': ';', '80': '<', '81': '=',\n",
    " '82': '>', '83': '?', '84': '@', '85': '[', '86': '\\\\', '87': ']', '88': '^', '89': '_',\n",
    " '90': '`', '91': '{', '92': '|', '93': '}', '94': '~', '95': ' '\n",
    "}   \n",
    "decode_password = \"\"\n",
    "for i in range(num_of_decode_loop):\n",
    "         finde_in_decode_dict = deio[i:2]\n",
    "         decode_password += str(decode_dict[finde_in_decode_dict])\n",
    "         print(decode_password)\n",
    "print(decode_password)"
   ]
  },
  {
   "cell_type": "code",
   "execution_count": 10,
   "metadata": {},
   "outputs": [
    {
     "name": "stdout",
     "output_type": "stream",
     "text": [
      "soda\n"
     ]
    }
   ],
   "source": [
    "decode_dict = {\n",
    " '-1': 'a', '-2': 'b', '-3': 'c', '-4': 'd', '-5': 'e', '-6': 'f', '-7': 'g', '-8': 'h', '-9': 'i',\n",
    " '10': 'j', '11': 'k', '12': 'l', '13': 'm', '14': 'n', '15': 'o', '16': 'p', '17': 'q',\n",
    " '18': 'r', '19': 's', '20': 't', '21': 'u', '22': 'v', '23': 'w', '24': 'x', '25': 'y',\n",
    " '26': 'z', '27': 'A', '28': 'B', '29': 'C', '30': 'D', '31': 'E', '32': 'F', '33': 'G',\n",
    " '34': 'H', '35': 'I', '36': 'J', '37': 'K', '38': 'L', '39': 'M', '40': 'N', '41': 'O',\n",
    " '42': 'P', '43': 'Q', '44': 'R', '45': 'S', '46': 'T', '47': 'U', '48': 'V', '49': 'W',\n",
    " '50': 'X', '51': 'Y', '52': 'Z', '53': '0', '54': '1', '55': '2', '56': '3', '57': '4',\n",
    " '58': '5', '59': '6', '60': '7', '61': '8', '62': '9', '63': '!', '64': '\"', '65': '#',\n",
    " '66': '$', '67': '%', '68': '&', '69': \"'\", '70': '(', '71': ')', '72': '*', '73': '+',\n",
    " '74': ',', '75': '-', '76': '.', '77': '/', '78': ':', '79': ';', '80': '<', '81': '=',\n",
    " '82': '>', '83': '?', '84': '@', '85': '[', '86': '\\\\', '87': ']', '88': '^', '89': '_',\n",
    " '90': '`', '91': '{', '92': '|', '93': '}', '94': '~', '95': ' '\n",
    "}\n",
    "soda = \"1915-4-1\"\n",
    "num_of_decode_loop = len(soda) // 2\n",
    "i = 0\n",
    "c = \"\"\n",
    "for i in range(num_of_decode_loop):\n",
    "         i *= 2\n",
    "         finde_in_decode_dict = soda[i : i+2:]\n",
    "         c += str(decode_dict[finde_in_decode_dict])\n",
    "print(c)\n",
    "\n",
    "         \n",
    "        \n",
    "    "
   ]
  },
  {
   "cell_type": "code",
   "execution_count": 11,
   "metadata": {},
   "outputs": [
    {
     "ename": "NameError",
     "evalue": "name 'deio' is not defined",
     "output_type": "error",
     "traceback": [
      "\u001b[1;31m---------------------------------------------------------------------------\u001b[0m",
      "\u001b[1;31mNameError\u001b[0m                                 Traceback (most recent call last)",
      "Cell \u001b[1;32mIn[11], line 1\u001b[0m\n\u001b[1;32m----> 1\u001b[0m num_of_decode_loop \u001b[38;5;241m=\u001b[39m \u001b[38;5;28mlen\u001b[39m(\u001b[43mdeio\u001b[49m) \u001b[38;5;241m/\u001b[39m\u001b[38;5;241m/\u001b[39m \u001b[38;5;241m2\u001b[39m\n\u001b[0;32m      2\u001b[0m c \u001b[38;5;241m=\u001b[39m \u001b[38;5;124m\"\u001b[39m\u001b[38;5;124m\"\u001b[39m\n\u001b[0;32m      3\u001b[0m \u001b[38;5;28;01mfor\u001b[39;00m i \u001b[38;5;129;01min\u001b[39;00m \u001b[38;5;28mrange\u001b[39m(num_of_decode_loop):\n",
      "\u001b[1;31mNameError\u001b[0m: name 'deio' is not defined"
     ]
    }
   ],
   "source": [
    "num_of_decode_loop = len(deio) // 2\n",
    "c = \"\"\n",
    "for i in range(num_of_decode_loop):\n",
    "    finde_in_decode_dict = deio[i*2 : i*2+2]  # แก้การตัด substring\n",
    "    c += decode_dict[finde_in_decode_dict]    # แก้เป็น dictionary ที่ถูกต้อง\n",
    "print(c)"
   ]
  }
 ],
 "metadata": {
  "kernelspec": {
   "display_name": "Soda",
   "language": "python",
   "name": "python3"
  },
  "language_info": {
   "codemirror_mode": {
    "name": "ipython",
    "version": 3
   },
   "file_extension": ".py",
   "mimetype": "text/x-python",
   "name": "python",
   "nbconvert_exporter": "python",
   "pygments_lexer": "ipython3",
   "version": "3.12.4"
  }
 },
 "nbformat": 4,
 "nbformat_minor": 2
}
